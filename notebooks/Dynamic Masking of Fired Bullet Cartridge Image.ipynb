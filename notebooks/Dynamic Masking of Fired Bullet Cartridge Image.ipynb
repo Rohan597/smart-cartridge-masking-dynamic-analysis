{
 "cells": [
  {
   "cell_type": "markdown",
   "id": "be980f46-78ec-4d08-bcdd-e8f3a1059564",
   "metadata": {},
   "source": [
    "# Outline\n",
    "- [ 1 - Importing the required Library and Packages ](#1)\n",
    "- [ 2 - Various helper function code block](#2)\n",
    "  - [ 2.1 Converting Original image into Gray Image](#2.1)\n",
    "  - [ 2.2 Hough Circle Detection](#2.2)\n",
    "  - [ 2.3 Canny Edge using Dilate and Erode Method](#2.3)\n",
    "  - [ 2.4 Flood Fill Function to fill any region with color](#2.4)\n",
    "  - [ 2.5 Contour Detection Function](#2.5)\n",
    "  - [ 2.6 Finding the Two Largest Contours](#2.6)\n",
    "  - [ 2.7 Centroid function to get the centroid of the contours](#2.7)\n",
    "- [ 3 - Detecting the Firing Pin](#3)\n",
    "  - [ 3.1 Finding Tip of the Firing Pin](#3.1)\n",
    "  - [ 3.2 Detecting the direction of Firing Pin](#3.2)\n",
    "- [ 4 - Aperture Shear Functions](#4)\n",
    "  - [ 4.1 Aperture Shear Direction](#4.1)\n",
    "  - [ 4.2 Draw the Aperture Shear Arc](#4.2)\n",
    "- [ 5 Image Masking](#5)\n",
    "  - [ 5.1 ImageMask Left](#5.1)\n",
    "  - [ 5.2 ImageMask Right](#5.2)\n",
    "  - [ 5.3 ImageMask Left](#5.3)\n",
    "- [ 6 Main Code](#6)\n"
   ]
  },
  {
   "cell_type": "markdown",
   "id": "f94d915f-d68f-432a-bf48-1a5ef5b80ded",
   "metadata": {},
   "source": [
    "<a name=\"1\"></a>\n",
    "## 1 - Importing the required Library and Packages \n",
    "\n",
    "First, let's run the cell below to import all the packages that you will need during this assignment.\n",
    "- [numpy](www.numpy.org) is the fundamental package for scientific computing with Python.\n",
    "- [matplotlib](http://matplotlib.org) is a famous library to plot graphs in Python.\n",
    "- [opencv (cv2)](https://docs.opencv.org/4.x/) Library for working with image and carrying out various image/video processing algorithms\n",
    "- [imutils](https://pypi.org/project/imutils/)\n",
    "    - [imutils latest docs](https://imutils.readthedocs.io/en/latest/) A series of convenience functions to make basic image processing functions such as translation, rotation, resizing, skeletonization, displaying Matplotlib images, sorting contours, detecting edges"
   ]
  },
  {
   "cell_type": "code",
   "execution_count": 1,
   "id": "c1483870-8e62-43ca-aa76-7a88667a31d0",
   "metadata": {},
   "outputs": [],
   "source": [
    "import cv2\n",
    "import numpy as np\n",
    "import math\n",
    "import imutils"
   ]
  },
  {
   "cell_type": "markdown",
   "id": "fe49c7cf-7202-47b4-ba81-253237e94842",
   "metadata": {},
   "source": [
    "<a name=\"2\"></a>\n",
    "## 2 - Various helper function code block"
   ]
  },
  {
   "cell_type": "markdown",
   "id": "736d9f2c-9cd3-46f4-8e15-c580924500f2",
   "metadata": {},
   "source": [
    "<a name=\"2.1\"></a>\n",
    "### 2.1 - Converting Original image into Gray Image"
   ]
  },
  {
   "cell_type": "code",
   "execution_count": 2,
   "id": "ba645b39-cd60-49e7-a5a4-9024e06b7939",
   "metadata": {},
   "outputs": [],
   "source": [
    "# Gray image function\n",
    "def gray_img(img):\n",
    "    gray = cv2.cvtColor(img, cv2.COLOR_BGR2GRAY) # Converting the img to Gray using cvtColor method\n",
    "    gray = cv2.medianBlur(gray, 5)\n",
    "    return gray # returning the gray image"
   ]
  },
  {
   "cell_type": "markdown",
   "id": "35419bae-8696-41c4-8b90-3d79680382dc",
   "metadata": {},
   "source": [
    "<a name=\"2.2\"></a>\n",
    "### 2.2 - Hough Circle Detection"
   ]
  },
  {
   "cell_type": "markdown",
   "id": "bec5079c-f04c-4ad6-b31c-99fb10248e41",
   "metadata": {},
   "source": [
    "#### This Function is used to find the circular region of the bullet cartridge in the given image"
   ]
  },
  {
   "cell_type": "code",
   "execution_count": 3,
   "id": "1afcdac6-c07c-4d46-b8dc-9dc8870e5e5d",
   "metadata": {},
   "outputs": [],
   "source": [
    "# This function\n",
    "def hough_circles(gray):\n",
    "    circles = cv2.HoughCircles(gray, cv2.HOUGH_GRADIENT, 1, 800, param1=80, param2=50, minRadius=250, maxRadius=0)\n",
    "    \n",
    "    detected_circles = np.uint16(np.around(circles))\n",
    "    for (x, y,r) in detected_circles [0, :]:\n",
    "        cv2.circle(input_img, (x, y), r, (0, 255, 0), 3)\n",
    "        cv2.circle(input_img, (x, y), 2, (0, 255, 255), 10)\n",
    "    return input_img, x, y, r"
   ]
  },
  {
   "cell_type": "markdown",
   "id": "45b4e6f5-fe47-43e3-b855-fe8037ca9854",
   "metadata": {},
   "source": [
    "<a name=\"2.3\"></a>\n",
    "### 2.3 - Canny Edge using Dilate and Erode Method."
   ]
  },
  {
   "cell_type": "code",
   "execution_count": 4,
   "id": "1d145181-f024-48e3-bbff-060c4f14d9bf",
   "metadata": {},
   "outputs": [],
   "source": [
    "# Dilate and Erode on gray image\n",
    "def dilate_erode_img(gray):\n",
    "    edge = cv2.Canny(img, 150, 100)\n",
    "\n",
    "    # Taking a matrix of size 3 as the kernel \n",
    "    kernel = np.ones((3, 3), np.uint8)\n",
    "    edge = cv2.dilate(edge, kernel, iterations=2)\n",
    "    \n",
    "    kernel = np.ones((4, 4), np.uint8)\n",
    "    edge = cv2.erode(edge, kernel, iterations=3)\n",
    "    return edge"
   ]
  },
  {
   "cell_type": "markdown",
   "id": "05072a25-5989-4b3a-bfc0-5b2a7362cb7b",
   "metadata": {},
   "source": [
    "<a name=\"2.4\"></a>\n",
    "### 2.4 - Flood Fill Function to fill any region with color"
   ]
  },
  {
   "cell_type": "code",
   "execution_count": 5,
   "id": "38b0d162-89e5-4553-aad9-79e5260402cb",
   "metadata": {},
   "outputs": [],
   "source": [
    "# Flood fill the image with color to highlight the pin impression on bullet catridge\n",
    "def flood_fill(img, floodfill_color, x, y, mask = None):\n",
    "    seed_point = x,y\n",
    "    # print(seed_point)\n",
    "    cv2.floodFill(img, mask, seed_point, floodfill_color)"
   ]
  },
  {
   "cell_type": "markdown",
   "id": "ab987383-0efb-490b-9b52-8d437ecb8388",
   "metadata": {},
   "source": [
    "<a name=\"2.5\"></a>\n",
    "### 2.5 Contour Detection Function"
   ]
  },
  {
   "cell_type": "code",
   "execution_count": 6,
   "id": "2a4d1b74-3168-4d8c-a197-f9303efb6d55",
   "metadata": {},
   "outputs": [],
   "source": [
    "# Finding contours\n",
    "# apply binary thresholding\n",
    "def contour_img(edge, input_img): #sobel - 3rd parameter\n",
    "    ret, thresh = cv2.threshold(edge, 150, 255, cv2.THRESH_BINARY)\n",
    "    contours, hierarchy = cv2.findContours(image=thresh, mode=cv2.RETR_TREE, method=cv2.CHAIN_APPROX_SIMPLE)\n",
    "    cv2.drawContours(image=input_img, contours=contours, contourIdx=-1, color=(0, 0, 255), thickness=2, lineType=cv2.LINE_AA)"
   ]
  },
  {
   "cell_type": "markdown",
   "id": "e0066f5c-4cc2-4578-9147-5999a68c33a0",
   "metadata": {},
   "source": [
    "<a name=\"2.6\"></a>\n",
    "### 2.6 Finding the Two Largest Contours (i.e the contour within Hough Circle which will be Breach face Impression and Pin Impression "
   ]
  },
  {
   "cell_type": "code",
   "execution_count": 7,
   "id": "28ea6726-58d1-45ee-b79d-68c5f1b50f77",
   "metadata": {},
   "outputs": [],
   "source": [
    "def draw_largest_two_contours(canny_edge, img_copy):\n",
    "    # apply binary thresholding\n",
    "    second_img = img_copy.copy()\n",
    "    third_img = img_copy.copy()\n",
    "    ret, thresh = cv2.threshold(canny_edge, 150, 255, cv2.THRESH_BINARY)\n",
    "    contours, hierarchy = cv2.findContours(image=thresh, mode=cv2.RETR_TREE, method=cv2.CHAIN_APPROX_SIMPLE)\n",
    "\n",
    "# Select the second-largest contour\n",
    "    if len(contours) >= 2:\n",
    "        two_largest_contours = sorted(contours, key=cv2.contourArea, reverse=True)[:2]\n",
    "        second_largest_contour = two_largest_contours[1]\n",
    "        \n",
    "        # Draw only the two largest contours\n",
    "        cv2.drawContours(image = img_copy, contours = two_largest_contours, contourIdx =-1, color=(0, 255, 0), thickness=2, lineType=cv2.LINE_AA)\n",
    "        cv2.drawContours(image = second_img, contours = [second_largest_contour], contourIdx =-1, color=(0, 255, 0), thickness=4, lineType=cv2.LINE_AA)\n",
    "\n",
    "    return two_largest_contours, second_largest_contour"
   ]
  },
  {
   "cell_type": "markdown",
   "id": "0f61ca7b-b072-47b9-b223-b7847beb68ad",
   "metadata": {},
   "source": [
    "<a name= \"2.7\"></a>\n",
    "### 2.7 - Centroid function to get the centroid of the contours"
   ]
  },
  {
   "cell_type": "code",
   "execution_count": 8,
   "id": "42f8f664-5952-4a90-aeb4-d3fed76940c1",
   "metadata": {},
   "outputs": [],
   "source": [
    "def centroid_two_largest_contours(two_largest_contours, input_img):\n",
    "\n",
    "# Calculate centroids for the two largest contours\n",
    "    centroid_pairs = []\n",
    "    for cnt in two_largest_contours:\n",
    "        moments = cv2.moments(cnt)\n",
    "        # print(moments)\n",
    "        if moments['m00'] != 0:\n",
    "            cx = int(moments['m10'] / moments['m00'])\n",
    "            cy = int(moments['m01'] / moments['m00'])\n",
    "            # print('Plain cx & cy', cx, cy)\n",
    "            centroid_pairs.append((cx,cy))\n",
    "            # Draw a circle at the centroid\n",
    "            cv2.circle(input_img, (cx, cy), 5, (0, 0, 255), -1)\n",
    "            # print(centroid_pairs)\n",
    "    return centroid_pairs"
   ]
  },
  {
   "cell_type": "markdown",
   "id": "faf52109-09cf-4161-a1f1-3bb452c3c962",
   "metadata": {},
   "source": [
    "<a name=\"3\"></a>\n",
    "## 3 - Pin Direction but using the tip of the pin with help of contour_points of 2nd largest contours"
   ]
  },
  {
   "cell_type": "markdown",
   "id": "40c75f52-754f-4f19-bcbc-6fa276d804b5",
   "metadata": {},
   "source": [
    "<a name=\"3.1\"></a>\n",
    "### 3.1 -Finding Tip of the Firing pin through the Pin tip(Top) points and centroid"
   ]
  },
  {
   "cell_type": "code",
   "execution_count": 9,
   "id": "c1f76ede-8193-4ad2-887d-7acdd0ae9b7b",
   "metadata": {},
   "outputs": [],
   "source": [
    "def get_tip_point(contour_points, centroid):\n",
    "    distances = np.linalg.norm(contour_points - centroid[1], axis=1)\n",
    "    tip_point_index = np.argmax(distances) # This give the maximum distance between tip point (i.e Pin Point and Centroid of the pin Contours)\n",
    "    tip_point = contour_points[tip_point_index]\n",
    "    return tip_point"
   ]
  },
  {
   "cell_type": "markdown",
   "id": "1b1ae303-a1a7-402b-a778-994f407b74c1",
   "metadata": {},
   "source": [
    "<a name=\"3.2\"></a>\n",
    "### 3.2 Detecting the direction of Firing Pin\n",
    "#### The `Pin_Tip_Direction` Function\n",
    "\n",
    "#### This function will dynamically find the pin tip and draw a line to it and using that line we will be drawing a perpendicular line to find the region of the following\n",
    "\n",
    "- `Firing Pin Drag`\n",
    "- `Firing Pin Impression`\n",
    "- `Direction of the Firing Pin Drag`"
   ]
  },
  {
   "cell_type": "code",
   "execution_count": 10,
   "id": "5258edd9-cd44-4d5b-bd5f-0d35b2466da3",
   "metadata": {},
   "outputs": [],
   "source": [
    "def pin_tip_direction(centroid_pairs, tip_point, image):\n",
    "    start_point = centroid_pairs[1]\n",
    "    end_point = tip_point\n",
    "\n",
    "# Pin Direction ArrowHead Logic\n",
    "#+++++++++++++++++++++++++++++++++++++++++++++++++++++++++++++++++++++++++++++++++++++++++++++++++++++++++++++++++++    \n",
    "    # Calculate a vector along the arrow direction\n",
    "    arrow_direction = np.subtract(end_point, start_point)\n",
    "\n",
    "    # Adaptive arrow length based on the distance between start and end points\n",
    "    arrow_length = int(2 * np.linalg.norm(arrow_direction))\n",
    "\n",
    "    # Limit the arrow length to the distance between start and end points\n",
    "    arrow_length = min(arrow_length, int(np.linalg.norm(arrow_direction)))\n",
    "    # print('min arrow', arrow_length)\n",
    "\n",
    "    # Calculate the endpoint based on the limited arrow length\n",
    "    arrow_scale_factor = 0.8\n",
    "    scaled_arrow_length = int(arrow_scale_factor * arrow_length)\n",
    " \n",
    "    # Calculate the adjusted endpoint based on the scaled arrow length\n",
    "    adjusted_end_point = (start_point[0] + int(arrow_direction[0] * arrow_scale_factor),\n",
    "                          start_point[1] + int(arrow_direction[1] * arrow_scale_factor))\n",
    "\n",
    "    # Red color in BGR  \n",
    "    color = (168, 52, 34) \n",
    "\n",
    "    # cv2.circle(image, start_point, 10, color, 3) # Circle at starting point which is centroid\n",
    "    # cv2.circle(image, adjusted_end_point, 10, color, 3) # Circle at starting point which is centroid\n",
    "    image_copy = cv2.arrowedLine(image, start_point, tuple(map(int, adjusted_end_point)), color, thickness = 4)\n",
    "\n",
    "#+++++++++++++++++++++++++++++++++++++++++++++++++++++++++++++++++++++++++++++++++++++++++++++++++++++++++++++++++++\n",
    "\n",
    "\n",
    "# Perpendicular line logic \n",
    "# ---------------------------------------------------------------------------------\n",
    "    # Calculate the slope of the arrow line\n",
    "    slope = (end_point[1] - start_point[1]) / (end_point[0] - start_point[0])\n",
    "    \n",
    "    # Calculate the direction vector for the perpendicular line\n",
    "    perpendicular_direction = np.array([-1, 1 / slope])\n",
    "    \n",
    "    # Normalize the direction vector\n",
    "    perpendicular_direction /= np.linalg.norm(perpendicular_direction)\n",
    "    \n",
    "    # Choose a length for the perpendicular line\n",
    "    perpendicular_line_length = 80\n",
    "    \n",
    "    \n",
    "    # Calculate the end points of the perpendicular line in both directions\n",
    "    perpendicular_end_point_1 = (int(start_point[0] + perpendicular_direction[0] * perpendicular_line_length),\n",
    "                                 int(start_point[1] + perpendicular_direction[1] * perpendicular_line_length))\n",
    "    \n",
    "    perpendicular_end_point_2 = (int(start_point[0] - perpendicular_direction[0] * perpendicular_line_length),\n",
    "                                 int(start_point[1] - perpendicular_direction[1] * perpendicular_line_length))\n",
    "    # Draw the perpendicular line\n",
    "\n",
    "    # Draw the perpendicular line in both directions\n",
    "    cv2.line(image_copy, start_point, perpendicular_end_point_1, color, thickness=4)\n",
    "    cv2.line(image_copy, start_point, perpendicular_end_point_2, color, thickness=4)\n",
    "# ---------------------------------------------------------------------------------\n",
    "\n",
    "    # print('Arrow Direction', arrow_direction)\n",
    "    return image_copy, arrow_direction"
   ]
  },
  {
   "cell_type": "markdown",
   "id": "90dd914d-4cc5-4f6f-bdcb-a135c22a369a",
   "metadata": {},
   "source": [
    "<a name=\"4\"></a>\n",
    "## 4 - Function to find Aperture Shear and will draw the arc on it"
   ]
  },
  {
   "cell_type": "markdown",
   "id": "c37ab516-5890-4953-8a89-042b872c20a4",
   "metadata": {},
   "source": [
    "<a name=\"4.1\"></a>\n",
    "### 4.1 - ApertureShear Direction Function will help us to identify the point of aperture shear"
   ]
  },
  {
   "cell_type": "code",
   "execution_count": 11,
   "id": "b32a6136-f5f4-4290-bb48-5a3291e28c53",
   "metadata": {},
   "outputs": [],
   "source": [
    "def apertureshear_direction_for_arc(centroid_pairs, tip_point, image):\n",
    "    end_point = centroid_pairs[1]\n",
    "    start_point = tip_point\n",
    "\n",
    "     # Calculate a vector along the arrow direction\n",
    "    arrow_direction = np.subtract(end_point, start_point)\n",
    "    \n",
    "    # Extend the line by a certain factor (e.g., 1.5 times the length of the arrow)\n",
    "    aperture_shear_point = (end_point[0] + int(1.15 * arrow_direction[0]), end_point[1] + int(1.15 * arrow_direction[1]))\n",
    "\n",
    "    color = (0, 255, 255)\n",
    "    cv2.circle(image, aperture_shear_point, 12, color, 3)\n",
    "        \n",
    "    return aperture_shear_point"
   ]
  },
  {
   "cell_type": "markdown",
   "id": "445d2b05-d3ad-424f-af36-25a2db057254",
   "metadata": {},
   "source": [
    "<a name=\"4.2\"></a>\n",
    "### 4.2 Draw the Aperture Shear Arc  `draw_apertureshear_arc` will draw and arc for it"
   ]
  },
  {
   "cell_type": "code",
   "execution_count": 12,
   "id": "79cb7acc-ab26-48a6-9069-080f403939f6",
   "metadata": {},
   "outputs": [],
   "source": [
    "# Function 3: Draw an arc passing through a point (arc_start_point)\n",
    "def draw_apertureshear_arc(image, centroid_pairs, arc_start_point):\n",
    "\n",
    "    # Calculate the vector from centroid to arc_start_point\n",
    "    vector_to_start_point = np.subtract(arc_start_point, centroid_pairs[1])\n",
    "\n",
    "    # Calculate the radius as half the distance between centroid and arc_start_point\n",
    "    radius = int(np.linalg.norm(vector_to_start_point))\n",
    "\n",
    "    # Calculate the start and end angles for the arc (assuming a full circle)\n",
    "    start_angle = 0\n",
    "    end_angle = 30\n",
    "\n",
    "    center = centroid_pairs[1]\n",
    "    \n",
    "    # Red color in BGR\n",
    "    color = (0, 128, 128)\n",
    "\n",
    "    # Draw the arc passing through the arc_start_point\n",
    "    image_with_arc = image.copy()\n",
    "    \n",
    "     # Draw the arc passing through the arc_start_point\n",
    "    cv2.ellipse(image_with_arc, center, (radius, radius), 0, start_angle, end_angle, color, thickness=6)\n",
    "\n",
    "    return image_with_arc"
   ]
  },
  {
   "cell_type": "markdown",
   "id": "0c2e935e-9c5c-4ea5-aeb9-cccd9606df88",
   "metadata": {},
   "source": [
    "<a name = \"5\"></a>\n",
    "## 5 - Image Masking Function to use to identify the region to floodfill with different color\n",
    "\n",
    "### Function Image Mask will create a mask image of the given input image\n",
    "\n",
    "Return the following parameter\n",
    "- `image_with_contours`\n",
    "- `image_mask`"
   ]
  },
  {
   "cell_type": "code",
   "execution_count": 13,
   "id": "e26978a4-28d6-4093-9285-76b870569702",
   "metadata": {},
   "outputs": [],
   "source": [
    "def image_mask(image_with_contours, contours):\n",
    "    \n",
    "    # # Create a binary mask based on pin contours\n",
    "    # mask = np.zeros_like(image_with_contours, dtype=np.uint8)\n",
    "    # cv2.drawContours(mask, contours, -1, (255, 255, 255), thickness=cv2.FILLED)\n",
    "\n",
    "    # Convert image with contours to BGR color image\n",
    "    image_with_contours = cv2.cvtColor(image_with_contours, cv2.COLOR_GRAY2BGR)\n",
    "    \n",
    "    # Create a binary mask based on pin contours\n",
    "    mask = np.zeros_like(image_with_contours, dtype=np.uint8)\n",
    "    cv2.drawContours(mask, contours, -1, (255, 255, 255), thickness=cv2.FILLED)\n",
    "\n",
    "    return image_with_contours, mask"
   ]
  },
  {
   "cell_type": "markdown",
   "id": "fb674407-2138-48b3-b2c8-c293058a6a8b",
   "metadata": {},
   "source": [
    "<a name=\"5.1\"></a>\n",
    "### 5.1 - Function imagemask_left return the left region (Firing Pin Drag region mask)"
   ]
  },
  {
   "cell_type": "code",
   "execution_count": 14,
   "id": "f20c32c3-9905-44d9-9d1e-344d6b7ff864",
   "metadata": {},
   "outputs": [],
   "source": [
    "def imagemask_left(mask, centroid_pairs):\n",
    "    # mask_copy1 = mask.copy()\n",
    "    # flood fill\n",
    "    color = 251, 206, 135\n",
    "    color_arr = np.array(color)\n",
    "    flood_fill(mask, color, centroid_pairs[1][0] - 25, \n",
    "               centroid_pairs[1][1] -25)\n",
    "    mask_left = cv2.inRange(mask, color_arr, color_arr)\n",
    "    \n",
    "    # Mask on image\n",
    "    mask_left = cv2.threshold(mask_left, 0, 255, cv2.THRESH_BINARY + cv2.THRESH_OTSU)[1]\n",
    "\n",
    "    return mask_left"
   ]
  },
  {
   "cell_type": "markdown",
   "id": "f3616699-d02d-40eb-b2ab-647be4abd8a6",
   "metadata": {},
   "source": [
    "<a name=\"5.2\"></a>\n",
    "### 5.2 - Function imagemask_right return the right region (Firing Pin Impression region mask)"
   ]
  },
  {
   "cell_type": "code",
   "execution_count": 15,
   "id": "662d487c-118c-4260-aa91-bc12782f0f3b",
   "metadata": {},
   "outputs": [],
   "source": [
    "def imagemask_right(mask, centroid_pairs):\n",
    "    # flood fill\n",
    "    # mask_copy2 = mask.copy()\n",
    "    color = 128,0,128\n",
    "    color_arr = np.array(color)\n",
    "    flood_fill(mask, color, centroid_pairs[1][0] + 25, \n",
    "               centroid_pairs[1][1] + 25)\n",
    "    mask_right = cv2.inRange(mask, color_arr, color_arr)\n",
    "\n",
    "    # Mask on image\n",
    "    mask_right = cv2.threshold(mask_right, 0, 255, cv2.THRESH_BINARY + cv2.THRESH_OTSU)[1]\n",
    "    return mask_right"
   ]
  },
  {
   "cell_type": "markdown",
   "id": "24c9d8e4-0096-4d77-9b69-0fc50e31a8f4",
   "metadata": {},
   "source": [
    "<a name=\"5.3\"></a>\n",
    "### 5.3 Function imagemask_outer return the outer region (Breach Face Impression region mask)"
   ]
  },
  {
   "cell_type": "code",
   "execution_count": 16,
   "id": "c7b377f5-a933-44a6-90b0-e10c01334f4f",
   "metadata": {},
   "outputs": [],
   "source": [
    "def imagemask_outer(image, mask, pin_tip_point):\n",
    "    # Floodfill mask region\n",
    "    # image_copy = image.copy()\n",
    "    # mask on outer region of contours\n",
    "    color = 52, 66, 227\n",
    "    color_arr = np.array(color)\n",
    "    flood_fill(mask, color, tip_point[0] - 15, \n",
    "               tip_point[1])\n",
    "    mask_outer = cv2.inRange(mask, color_arr, color_arr)\n",
    "\n",
    "    # Mask on image\n",
    "    mask_outer = cv2.threshold(mask_outer, 0, 255, cv2.THRESH_BINARY + cv2.THRESH_OTSU)[1]\n",
    "    return mask_outer\n"
   ]
  },
  {
   "cell_type": "markdown",
   "id": "22da7050-54be-420b-8b5c-2c5257877ff0",
   "metadata": {},
   "source": [
    "<a name = \"6\"></a>\n",
    "# 6 - Main Code File"
   ]
  },
  {
   "cell_type": "code",
   "execution_count": 22,
   "id": "bd93fb06-08b3-436e-aaa9-2a381fbcf441",
   "metadata": {},
   "outputs": [],
   "source": [
    "# Reading the image file\n",
    "img = cv2.imread('bullet_case2.jpg')\n",
    "img = imutils.resize(img, width=540)  # .resize(img, (540, 540), interpolation = cv2.INTER_LINEAR)\n",
    "input_img = img.copy()  # Creating the copy of img in order to keep the original resized img same\n",
    "image_copy = img.copy()\n",
    "\n",
    "# Create Gray image of input image\n",
    "gray = gray_img(input_img)\n",
    "contour_gray = gray.copy() # Creating a copy of gray image\n",
    "\n",
    "# Call the hough_circle to detect the circls of the bullets\n",
    "circle_detected_img, x, y, r = hough_circles(gray)\n",
    "breach_impression_hough_circles = circle_detected_img.copy()\n",
    "\n",
    "# calls the dilate and erode function which use canny edge detection\n",
    "canny_edge_img = dilate_erode_img(gray)\n",
    "canny_edge = canny_edge_img.copy()\n",
    "copy_canny_edge = canny_edge_img.copy() # Making Copy of Canny Edge Img\n",
    "\n",
    "# flood fill the pin impression on the fired bullet cartrigde\n",
    "color = 106,50,159 \n",
    "flood_fill(canny_edge_img, color, x, y)\n",
    "\n",
    "# Calls the function to return two largest contours which is out circles detect and the pin impression contours\n",
    "two_largest_contours, second_largest_contour = draw_largest_two_contours(canny_edge_img, input_img)\n",
    "\n",
    "both_contour_image = input_img.copy()\n",
    "\n",
    "# Draw only the two largest contours on gray_image\n",
    "cv2.drawContours(image = contour_gray, contours = two_largest_contours, contourIdx =-1, color=(0, 255, 0), thickness=2, lineType=cv2.LINE_AA)\n",
    "\n",
    "centroid_pairs = centroid_two_largest_contours(two_largest_contours, input_img)\n",
    "# print('Pin Contours point', centroid_pairs[1])\n",
    "cv2.circle(both_contour_image, centroid_pairs[1], 8, (0,0,255), -1)\n",
    "\n",
    "\n",
    "# Direction of the Pin Code block\n",
    "# ========================================================================================================\n",
    "# Squeeze the second_largest_contour\n",
    "contours_points = np.squeeze(second_largest_contour)\n",
    "\n",
    "# pin tip points\n",
    "tip_point = get_tip_point(contours_points, centroid_pairs)\n",
    "# cv2.circle(pin_drag_onImg, (tip_point), 12, (255,0,255), 4)\n",
    "\n",
    "# Draw direction of pin on canny edge\n",
    "pin_drag_img, direction = pin_tip_direction(centroid_pairs, tip_point, copy_canny_edge)\n",
    "\n",
    "# Draw direction of pin on input Img\n",
    "pin_drag_onImg, direction = pin_tip_direction(centroid_pairs, tip_point, input_img) \n",
    "# ========================================================================================================\n",
    "# --------------------------------------------------------------------------------------------------------\n",
    "pin_tip_img = img.copy()\n",
    "pin_tip_point_Img, direction = pin_tip_direction(centroid_pairs, tip_point, pin_tip_img)\n",
    "\n",
    "result_image_color, mask = image_mask(contour_gray, two_largest_contours)\n",
    "mask_img, direction = pin_tip_direction(centroid_pairs, tip_point, mask) \n",
    "# --------------------------------------------------------------------------------------------------------\n",
    "\n",
    "\n",
    "#++++++++++++++++++++++++++++++++++++++++++++++++++++++++++++++++++++++++++++++++++++++++++++++++++++++\n",
    "# Masking \n",
    "mask_left = imagemask_left(mask_img, centroid_pairs)\n",
    "mask_right = imagemask_right(mask_img, centroid_pairs)\n",
    "\n",
    "pin_drag_onImg[mask_right==255] = (128,0,128)\n",
    "pin_drag_onImg[mask_left==255] = (251, 206, 135)\n",
    "\n",
    "result_image_color[mask_right==255] = (128,0,128)\n",
    "result_image_color[mask_left==255] = (251, 206, 135)\n",
    "\n",
    "mask_outer = imagemask_outer(contour_gray, mask, tip_point)\n",
    "\n",
    "pin_drag_onImg[mask_outer==255] = (52, 66, 227)\n",
    "result_image_color[mask_outer==255] = (52, 66, 227)\n",
    "\n",
    "#++++++++++++++++++++++++++++++++++++++++++++++++++++++++++++++++++++++++++++++++++++++++++++++++++++++\n",
    "\n",
    "\n",
    "arc_start_point = apertureshear_direction_for_arc(centroid_pairs, tip_point, image_copy)\n",
    "pin_drag_onImg = draw_apertureshear_arc(pin_drag_onImg, centroid_pairs, arc_start_point)\n",
    "\n",
    "arc_img = draw_apertureshear_arc(result_image_color, centroid_pairs, arc_start_point)\n",
    "arc_img, direction = pin_tip_direction(centroid_pairs, tip_point, arc_img)\n",
    "\n",
    "cv2.imshow('Original Image', image_copy)\n",
    "cv2.imshow('Original Image', gray)\n",
    "cv2.imshow('Canny Edge', canny_edge)\n",
    "cv2.imshow('Hough Circle frame', breach_impression_hough_circles)\n",
    "cv2.imshow('Pin Drag frame', pin_drag_img)\n",
    "cv2.imshow('Pin directn on O/P', pin_drag_onImg) \n",
    "cv2.imshow('Pin tip direction on O/P', pin_tip_point_Img)\n",
    "cv2.imshow('Both Contours Img', both_contour_image)\n",
    "cv2.imshow('Result Image (Color with Contours)', result_image_color)\n",
    "cv2.imshow('Result Image (gray with Contours)', contour_gray)\n",
    "cv2.imshow('Mask Img', mask_img)\n",
    "cv2.imshow('Mask Left', mask_left)\n",
    "cv2.imshow('Mask Right', mask_right)\n",
    "cv2.imshow('Mask Outer', mask_outer)\n",
    "cv2.imshow('arc Outer', arc_img)\n",
    "cv2.imshow('Centrid Point', both_contour_image)\n",
    "\n",
    "cv2.waitKey(0)\n",
    "cv2.destroyAllWindows()"
   ]
  },
  {
   "cell_type": "code",
   "execution_count": null,
   "id": "13c376c3-869e-4519-a875-2ed42e78d38d",
   "metadata": {},
   "outputs": [],
   "source": []
  },
  {
   "cell_type": "code",
   "execution_count": null,
   "id": "a704bf01-0316-475c-8d9b-082b270261d3",
   "metadata": {},
   "outputs": [],
   "source": []
  }
 ],
 "metadata": {
  "kernelspec": {
   "display_name": "Python 3 (ipykernel)",
   "language": "python",
   "name": "python3"
  },
  "language_info": {
   "codemirror_mode": {
    "name": "ipython",
    "version": 3
   },
   "file_extension": ".py",
   "mimetype": "text/x-python",
   "name": "python",
   "nbconvert_exporter": "python",
   "pygments_lexer": "ipython3",
   "version": "3.12.0"
  }
 },
 "nbformat": 4,
 "nbformat_minor": 5
}
